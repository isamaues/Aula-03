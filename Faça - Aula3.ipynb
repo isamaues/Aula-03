{
 "cells": [
  {
   "cell_type": "code",
   "execution_count": 1,
   "metadata": {
    "collapsed": false
   },
   "outputs": [
    {
     "name": "stdout",
     "output_type": "stream",
     "text": [
      "0 01101 0101010101 = 0.333251953125 ≈ 1/3\n",
      "33538048.0\n"
     ]
    }
   ],
   "source": [
    "print('0 01101 0101010101 = 0.333251953125 ≈ 1/3')\n",
    "# 0 01101 0101010101 ≈ 33538048.0\n",
    "# 1 - 2**10\n",
    "# o numero é normal portanto começa com 1\n",
    "# 1 + 1 - 2**10 = 2 + 2**-10\n",
    "#01101 = 26\n",
    "#Expoente = 26 - 15 = 24\n",
    "print((2 - 2**-10)*2**24) # 33538048.0"
   ]
  }
 ],
 "metadata": {
  "anaconda-cloud": {},
  "kernelspec": {
   "display_name": "Python [default]",
   "language": "python",
   "name": "python3"
  },
  "language_info": {
   "codemirror_mode": {
    "name": "ipython",
    "version": 3
   },
   "file_extension": ".py",
   "mimetype": "text/x-python",
   "name": "python",
   "nbconvert_exporter": "python",
   "pygments_lexer": "ipython3",
   "version": "3.5.2"
  }
 },
 "nbformat": 4,
 "nbformat_minor": 1
}
